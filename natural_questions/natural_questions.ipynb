{
 "cells": [
  {
   "cell_type": "code",
   "execution_count": 1,
   "id": "64066db0",
   "metadata": {},
   "outputs": [
    {
     "name": "stderr",
     "output_type": "stream",
     "text": [
      "c:\\Users\\pedro\\Development\\retrieval_augmented_generation\\.venv\\lib\\site-packages\\tqdm\\auto.py:21: TqdmWarning: IProgress not found. Please update jupyter and ipywidgets. See https://ipywidgets.readthedocs.io/en/stable/user_install.html\n",
      "  from .autonotebook import tqdm as notebook_tqdm\n"
     ]
    }
   ],
   "source": [
    "from retrieval_augmented_generation.utils import download, unpack\n",
    "from pathlib import Path"
   ]
  },
  {
   "cell_type": "markdown",
   "id": "4c2ff6ae",
   "metadata": {},
   "source": [
    "# Globals"
   ]
  },
  {
   "cell_type": "code",
   "execution_count": 2,
   "id": "3245c686",
   "metadata": {},
   "outputs": [],
   "source": [
    "ROOT_PATH: Path = Path(\"./\")\n",
    "SIMPLIFIED_NQ_TRAIN: str = \"https://storage.googleapis.com/natural_questions/v1.0-simplified/simplified-nq-train.jsonl.gz\"\n",
    "DATASET_PATH: Path = ROOT_PATH.joinpath(Path(\"dataset\"))"
   ]
  },
  {
   "cell_type": "markdown",
   "id": "dd576a05",
   "metadata": {},
   "source": [
    "---\n",
    "---"
   ]
  },
  {
   "cell_type": "markdown",
   "id": "bbe9f9dc",
   "metadata": {},
   "source": [
    "# Download Dataset"
   ]
  },
  {
   "cell_type": "code",
   "execution_count": 7,
   "id": "96c6e7fa",
   "metadata": {},
   "outputs": [],
   "source": [
    "download_path: Path = download(\n",
    "    SIMPLIFIED_NQ_TRAIN, output_dir=DATASET_PATH, verbose=True, override=False\n",
    ")\n",
    "\n",
    "dataste_path: Path = unpack(download_path, verbose=True, override=False)"
   ]
  },
  {
   "cell_type": "code",
   "execution_count": null,
   "id": "1f032796",
   "metadata": {},
   "outputs": [],
   "source": []
  }
 ],
 "metadata": {
  "kernelspec": {
   "display_name": "retrieval-augmented-generation",
   "language": "python",
   "name": "python3"
  },
  "language_info": {
   "codemirror_mode": {
    "name": "ipython",
    "version": 3
   },
   "file_extension": ".py",
   "mimetype": "text/x-python",
   "name": "python",
   "nbconvert_exporter": "python",
   "pygments_lexer": "ipython3",
   "version": "3.10.18"
  }
 },
 "nbformat": 4,
 "nbformat_minor": 5
}
